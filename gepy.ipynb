{
 "metadata": {
  "language_info": {
   "codemirror_mode": {
    "name": "ipython",
    "version": 3
   },
   "file_extension": ".py",
   "mimetype": "text/x-python",
   "name": "python",
   "nbconvert_exporter": "python",
   "pygments_lexer": "ipython3",
   "version": "3.7.7"
  },
  "orig_nbformat": 4,
  "kernelspec": {
   "name": "python3",
   "display_name": "Python 3.7.7 64-bit ('GeoPython': conda)"
  },
  "interpreter": {
   "hash": "71a5077058e5ee4f294c33c47db6cd0ac3733c5d2716a3c38cc2a367e97065e8"
  }
 },
 "nbformat": 4,
 "nbformat_minor": 2,
 "cells": [
  {
   "cell_type": "code",
   "execution_count": 1,
   "metadata": {},
   "outputs": [],
   "source": [
    "import geopandas"
   ]
  },
  {
   "cell_type": "code",
   "execution_count": 2,
   "metadata": {},
   "outputs": [],
   "source": [
    "x = geopandas.read_file('gpp-test-area.shp')\n",
    "\n",
    "y = x.loc[x['ELEVATION']>= 30]\n",
    "\n",
    "b = x.loc[x['NAME'] == 'gpp-test-area']\n",
    "y = y.append(b)\n",
    "\n",
    "y.to_file('xyz.shp')\n"
   ]
  },
  {
   "cell_type": "code",
   "execution_count": 3,
   "metadata": {},
   "outputs": [],
   "source": [
    "xx  = geopandas.read_file('xyz.shp')\n"
   ]
  },
  {
   "cell_type": "code",
   "execution_count": 22,
   "metadata": {},
   "outputs": [
    {
     "output_type": "execute_result",
     "data": {
      "text/plain": [
       "<shapely.geometry.polygon.Polygon at 0x7f98e74bdb90>"
      ],
      "image/svg+xml": "<svg xmlns=\"http://www.w3.org/2000/svg\" xmlns:xlink=\"http://www.w3.org/1999/xlink\" width=\"100.0\" height=\"136.77120000123978\" viewBox=\"1625062.1944 4754227.4843999995 89.05120000010356 136.77120000123978\" preserveAspectRatio=\"xMinYMin meet\"><g transform=\"matrix(1,0,0,-1,0,9508591.74)\"><path fill-rule=\"evenodd\" fill=\"#66cc99\" stroke=\"#555555\" stroke-width=\"2.0\" opacity=\"0.6\" d=\"M 1625088.64,4754299.28 L 1625111.44,4754359.19 L 1625146.18,4754345.98 L 1625115.19,4754268.69 L 1625112.26,4754261.39 L 1625100.69,4754232.55 L 1625067.26,4754245.96 L 1625088.64,4754299.28 z\" /></g></svg>"
     },
     "metadata": {},
     "execution_count": 22
    }
   ],
   "source": [
    "xx.geometry[100]"
   ]
  },
  {
   "cell_type": "code",
   "execution_count": null,
   "metadata": {},
   "outputs": [],
   "source": []
  }
 ]
}